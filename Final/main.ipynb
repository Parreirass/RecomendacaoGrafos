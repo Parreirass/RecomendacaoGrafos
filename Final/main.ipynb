{
 "cells": [
  {
   "cell_type": "code",
   "execution_count": 22,
   "metadata": {},
   "outputs": [
    {
     "data": {
      "text/html": [
       "<div>\n",
       "<style scoped>\n",
       "    .dataframe tbody tr th:only-of-type {\n",
       "        vertical-align: middle;\n",
       "    }\n",
       "\n",
       "    .dataframe tbody tr th {\n",
       "        vertical-align: top;\n",
       "    }\n",
       "\n",
       "    .dataframe thead th {\n",
       "        text-align: right;\n",
       "    }\n",
       "</style>\n",
       "<table border=\"1\" class=\"dataframe\">\n",
       "  <thead>\n",
       "    <tr style=\"text-align: right;\">\n",
       "      <th></th>\n",
       "      <th>Title</th>\n",
       "      <th>Director</th>\n",
       "      <th>Stars</th>\n",
       "      <th>IMDb-Rating</th>\n",
       "      <th>Category</th>\n",
       "      <th>Duration</th>\n",
       "      <th>Censor-board-rating</th>\n",
       "      <th>ReleaseYear</th>\n",
       "    </tr>\n",
       "  </thead>\n",
       "  <tbody>\n",
       "    <tr>\n",
       "      <th>0</th>\n",
       "      <td>Top Gun: Maverick</td>\n",
       "      <td>JosephKosinski</td>\n",
       "      <td>TomCruise, JenniferConnelly, MilesTeller, ValK...</td>\n",
       "      <td>8.6</td>\n",
       "      <td>Action,Drama</td>\n",
       "      <td>130min</td>\n",
       "      <td>UA</td>\n",
       "      <td>2022</td>\n",
       "    </tr>\n",
       "    <tr>\n",
       "      <th>1</th>\n",
       "      <td>Everything Everywhere All at Once</td>\n",
       "      <td>DanKwan,</td>\n",
       "      <td>, MichelleYeoh, StephanieHsu, KeHuyQuan, James...</td>\n",
       "      <td>8.3</td>\n",
       "      <td>Action,Adventure,Comedy</td>\n",
       "      <td>139min</td>\n",
       "      <td>R</td>\n",
       "      <td>2022</td>\n",
       "    </tr>\n",
       "    <tr>\n",
       "      <th>2</th>\n",
       "      <td>The Batman</td>\n",
       "      <td>MattReeves</td>\n",
       "      <td>RobertPattinson, ZoëKravitz, JeffreyWright, Co...</td>\n",
       "      <td>7.9</td>\n",
       "      <td>Action,Crime,Drama</td>\n",
       "      <td>176min</td>\n",
       "      <td>UA</td>\n",
       "      <td>2022</td>\n",
       "    </tr>\n",
       "    <tr>\n",
       "      <th>3</th>\n",
       "      <td>Jurassic Park</td>\n",
       "      <td>StevenSpielberg</td>\n",
       "      <td>SamNeill, LauraDern, JeffGoldblum, RichardAtte...</td>\n",
       "      <td>8.2</td>\n",
       "      <td>Action,Adventure,Sci-Fi</td>\n",
       "      <td>127min</td>\n",
       "      <td>UA</td>\n",
       "      <td>1993</td>\n",
       "    </tr>\n",
       "    <tr>\n",
       "      <th>4</th>\n",
       "      <td>The Godfather</td>\n",
       "      <td>FrancisFordCoppola</td>\n",
       "      <td>MarlonBrando, AlPacino, JamesCaan, DianeKeaton</td>\n",
       "      <td>9.2</td>\n",
       "      <td>Crime,Drama</td>\n",
       "      <td>175min</td>\n",
       "      <td>A</td>\n",
       "      <td>1972</td>\n",
       "    </tr>\n",
       "  </tbody>\n",
       "</table>\n",
       "</div>"
      ],
      "text/plain": [
       "                               Title            Director  \\\n",
       "0                  Top Gun: Maverick      JosephKosinski   \n",
       "1  Everything Everywhere All at Once            DanKwan,   \n",
       "2                         The Batman          MattReeves   \n",
       "3                      Jurassic Park     StevenSpielberg   \n",
       "4                      The Godfather  FrancisFordCoppola   \n",
       "\n",
       "                                               Stars  IMDb-Rating  \\\n",
       "0  TomCruise, JenniferConnelly, MilesTeller, ValK...          8.6   \n",
       "1  , MichelleYeoh, StephanieHsu, KeHuyQuan, James...          8.3   \n",
       "2  RobertPattinson, ZoëKravitz, JeffreyWright, Co...          7.9   \n",
       "3  SamNeill, LauraDern, JeffGoldblum, RichardAtte...          8.2   \n",
       "4     MarlonBrando, AlPacino, JamesCaan, DianeKeaton          9.2   \n",
       "\n",
       "                  Category Duration Censor-board-rating  ReleaseYear  \n",
       "0             Action,Drama   130min                  UA         2022  \n",
       "1  Action,Adventure,Comedy   139min                   R         2022  \n",
       "2       Action,Crime,Drama   176min                  UA         2022  \n",
       "3  Action,Adventure,Sci-Fi   127min                  UA         1993  \n",
       "4              Crime,Drama   175min                   A         1972  "
      ]
     },
     "execution_count": 22,
     "metadata": {},
     "output_type": "execute_result"
    }
   ],
   "source": [
    "import matplotlib.pyplot as plt\n",
    "import pandas as pd\n",
    "import networkx as nx\n",
    "\n",
    "ob = pd.read_csv('dataset/filmes.csv', encoding='utf-8')\n",
    "\n",
    "ob.head()"
   ]
  },
  {
   "cell_type": "code",
   "execution_count": 23,
   "metadata": {},
   "outputs": [],
   "source": [
    "ob['Category'] = ob['Category'].apply(lambda x: str(x).split(','))\n",
    "\n",
    "grafo = nx.DiGraph()\n",
    "\n",
    "for index, row in ob.iterrows():\n",
    "    grafo.add_node(index, nome=row['Title'], atores=row['Stars'], avaliacao=row['IMDb-Rating'], categoria=row['Category'])\n"
   ]
  },
  {
   "cell_type": "code",
   "execution_count": 24,
   "metadata": {},
   "outputs": [],
   "source": [
    "for i in range(len(ob)):\n",
    "    for j in range(i+1, len(ob)):\n",
    "        common_attrs = set(ob['Category'][i]).intersection(set(ob['Category'][j]))\n",
    "        if common_attrs:\n",
    "            weight = 1/len(common_attrs)\n",
    "            grafo.add_edge(i, j, weight=weight)\n",
    "            grafo.add_edge(j, i, weight=weight)  \n",
    "\n",
    "#pos = nx.spring_layout(grafo)  \n",
    "#labels = nx.get_edge_attributes(grafo, 'weight')  \n",
    "\n",
    "#nx.draw(grafo, pos, with_labels=True) \n",
    "#nx.draw_networkx_edge_labels(grafo, pos, edge_labels=labels)  \n",
    "\n",
    "#plt.show()  \n"
   ]
  },
  {
   "cell_type": "code",
   "execution_count": 25,
   "metadata": {},
   "outputs": [],
   "source": [
    "for i in range(len(ob)):\n",
    "    for j in range(i+1, len(ob)):\n",
    "        common_attrs = set(ob['Category'][i]).intersection(set(ob['Category'][j]))\n",
    "        if common_attrs:\n",
    "            weight = 1/len(common_attrs)\n",
    "            grafo.add_edge(i, j, weight=weight)\n",
    "            grafo.add_edge(j, i, weight=weight)  \n",
    "            grafo.nodes[i]['titulo'] = ob['Title'][i]\n",
    "            grafo.nodes[j]['titulo'] = ob['Title'][j]\n",
    "\n",
    "#pos = nx.circular_layout(grafo)\n",
    "#node_labels = nx.get_node_attributes(grafo, 'titulo')  \n",
    "#edge_labels = nx.get_edge_attributes(grafo, 'weight')  \n",
    "\n",
    "#nx.draw(grafo, pos, with_labels=True, labels=node_labels, font_weight='bold', font_size = '6')  \n",
    "#nx.draw_networkx_edge_labels(grafo, pos, edge_labels=edge_labels)  \n",
    "\n",
    "#plt.show()  "
   ]
  },
  {
   "cell_type": "code",
   "execution_count": 26,
   "metadata": {},
   "outputs": [
    {
     "name": "stdout",
     "output_type": "stream",
     "text": [
      "============== Recomendação de Filmes ==============\n",
      "-> Digite dois filmes e o algorítmo irá te retornar outro(s) filme(s) baseado em seu gosto\n",
      "-> Deve ser digitado o número correspondente ao filme (arquivo csv)\n",
      "Filme 1:  498\n",
      "Filme 2:  645\n",
      "Filme 1:  La haine\n",
      "Filme 2:  The Hustler\n"
     ]
    }
   ],
   "source": [
    "print (\"============== Recomendação de Filmes ==============\")\n",
    "print (\"-> Digite dois filmes e o algorítmo irá te retornar outro(s) filme(s) baseado em seu gosto\")\n",
    "print (\"-> Deve ser digitado o número correspondente ao filme (arquivo csv)\")\n",
    "no_inicial = int(input(\"Digite o primeiro filme: \")) - 2\n",
    "no_final = int(input(\"Digite o segundo filme: \")) - 2\n",
    "\n",
    "print (\"Filme 1: \", no_inicial)\n",
    "print (\"Filme 2: \", no_final)\n",
    "\n",
    "titulo_filme1 = grafo.nodes[no_inicial]['titulo']\n",
    "titulo_filme2 = grafo.nodes[no_final]['titulo']\n",
    "\n",
    "print (\"Filme 1: \", titulo_filme1)\n",
    "print (\"Filme 2: \", titulo_filme2)\n",
    "\n"
   ]
  },
  {
   "cell_type": "code",
   "execution_count": 27,
   "metadata": {},
   "outputs": [
    {
     "name": "stdout",
     "output_type": "stream",
     "text": [
      "[498, 2, 645]\n"
     ]
    }
   ],
   "source": [
    "if grafo.has_edge(no_inicial, no_final):\n",
    "    grafo.remove_edge(no_inicial, no_final)\n",
    "    \n",
    "menor_caminho = nx.dijkstra_path(grafo, no_inicial, no_final)\n",
    "\n",
    "print(menor_caminho)"
   ]
  },
  {
   "cell_type": "code",
   "execution_count": 28,
   "metadata": {},
   "outputs": [
    {
     "name": "stdout",
     "output_type": "stream",
     "text": [
      "O filme recomendado com base no seu gosto é:  The Batman\n"
     ]
    },
    {
     "ename": "",
     "evalue": "",
     "output_type": "error",
     "traceback": [
      "\u001b[1;31mThe Kernel crashed while executing code in the the current cell or a previous cell. Please review the code in the cell(s) to identify a possible cause of the failure. Click <a href='https://aka.ms/vscodeJupyterKernelCrash'>here</a> for more info. View Jupyter <a href='command:jupyter.viewOutput'>log</a> for further details."
     ]
    }
   ],
   "source": [
    "for i in range (1, len(menor_caminho)-1):\n",
    "    no = menor_caminho[i]\n",
    "    print(\"O filme recomendado com base no seu gosto é: \", grafo.nodes[no]['titulo'])"
   ]
  }
 ],
 "metadata": {
  "kernelspec": {
   "display_name": "Python 3",
   "language": "python",
   "name": "python3"
  },
  "language_info": {
   "codemirror_mode": {
    "name": "ipython",
    "version": 3
   },
   "file_extension": ".py",
   "mimetype": "text/x-python",
   "name": "python",
   "nbconvert_exporter": "python",
   "pygments_lexer": "ipython3",
   "version": "3.11.3"
  }
 },
 "nbformat": 4,
 "nbformat_minor": 2
}
